{
 "cells": [
  {
   "cell_type": "code",
   "execution_count": 1,
   "id": "771f2f5c",
   "metadata": {},
   "outputs": [],
   "source": [
    "import numpy as np\n",
    "import pandas as pd\n",
    "\n",
    "from sklearn.metrics import pairwise_distances\n"
   ]
  },
  {
   "cell_type": "code",
   "execution_count": 2,
   "id": "3ba602fa",
   "metadata": {},
   "outputs": [],
   "source": [
    "df = pd.read_pickle('movie_summaries.pkl')\n",
    "doc_topic_df = pd.read_pickle('doc_topic_df.pkl')\n"
   ]
  },
  {
   "cell_type": "code",
   "execution_count": 3,
   "id": "3475da60",
   "metadata": {},
   "outputs": [],
   "source": [
    "def recommendation_single(movie_idx, n_recs=5):\n",
    "    print(df['title'][movie_idx])\n",
    "    print(df['original_summary'][movie_idx][:100] + '...')\n",
    "    print('\\n')\n",
    "        \n",
    "    recs = pairwise_distances(np.array(doc_topic_df.iloc[movie_idx]).reshape(1,-1), doc_topic_df, metric='cosine').argsort()[0][1:]\n",
    "        \n",
    "    for i in range(n_recs):\n",
    "        print('\\t', df['title'][recs[i]])\n",
    "        print('\\t', df['original_summary'][recs[i]][:100] + '...')\n",
    "        print('\\n')"
   ]
  },
  {
   "cell_type": "code",
   "execution_count": 4,
   "id": "c5585ad7",
   "metadata": {},
   "outputs": [],
   "source": [
    "def recommendation_pair(movie_idx_1, movie_idx_2, n_recs=5):\n",
    "    print('First selected movie:')\n",
    "    print(df['title'][movie_idx_1])\n",
    "    print(df['original_summary'][movie_idx_1][:100] + '...')\n",
    "    print('\\n')\n",
    "    \n",
    "    print('Second selected movie:')\n",
    "    print(df['title'][movie_idx_2])\n",
    "    print(df['original_summary'][movie_idx_2][:100] + '...')\n",
    "    print('\\n')\n",
    "    \n",
    "    print('Getting recommendations...')\n",
    "    \n",
    "    recs_1 = pairwise_distances(np.array(doc_topic_df.iloc[movie_idx_1]).reshape(1,-1), doc_topic_df, metric='cosine').argsort()[0]\n",
    "    recs_2 = pairwise_distances(np.array(doc_topic_df.iloc[movie_idx_2]).reshape(1,-1), doc_topic_df, metric='cosine').argsort()[0]\n",
    "\n",
    "    rec_ranks = []\n",
    "    for i,title in enumerate(df['title']):\n",
    "        rec_ranks.append(list(recs_1).index(i) + list(recs_2).index(i)) \n",
    "        \n",
    "    rec_idx = np.argpartition(rec_ranks, n_recs)\n",
    "    \n",
    "    print('\\n')\n",
    "    if (movie_idx_1 in rec_idx[:n_recs]):\n",
    "        n_recs += 1\n",
    "    if (movie_idx_2 in rec_idx[:n_recs]):\n",
    "        n_recs += 1\n",
    "    if (movie_idx_1 == movie_idx_2):\n",
    "        n_recs -= 1\n",
    "        \n",
    "    for i in rec_idx[:n_recs]:\n",
    "        if i not in [movie_idx_1, movie_idx_2]:\n",
    "            print('\\t', df['title'][i])\n",
    "            print('\\t', df['original_summary'][i][:100] + '...')\n",
    "            print('\\n')\n",
    "    \n",
    "    return"
   ]
  },
  {
   "cell_type": "markdown",
   "id": "3d2cc9fa",
   "metadata": {},
   "source": [
    "# Beauty and the Beast (1991)"
   ]
  },
  {
   "cell_type": "code",
   "execution_count": 10,
   "id": "571a676b",
   "metadata": {},
   "outputs": [
    {
     "data": {
      "text/plain": [
       "topic_1     0.999999\n",
       "topic_2     0.999999\n",
       "topic_3     0.999999\n",
       "topic_4     0.999999\n",
       "topic_5     0.999999\n",
       "topic_6     0.000001\n",
       "topic_7     0.998156\n",
       "topic_8     0.999999\n",
       "topic_9     0.999999\n",
       "topic_10    0.999999\n",
       "topic_11    0.999999\n",
       "topic_12    0.999999\n",
       "topic_13    0.999999\n",
       "topic_14    0.999999\n",
       "topic_15    0.999994\n",
       "topic_16    0.999999\n",
       "topic_17    0.999999\n",
       "topic_18    0.999999\n",
       "topic_19    0.025654\n",
       "topic_20    0.023318\n",
       "topic_21    0.145268\n",
       "topic_22    0.999999\n",
       "topic_23    0.704404\n",
       "topic_24    0.036344\n",
       "topic_25    0.918309\n",
       "topic_26    0.153213\n",
       "topic_27    0.999999\n",
       "Name: 210, dtype: float64"
      ]
     },
     "execution_count": 10,
     "metadata": {},
     "output_type": "execute_result"
    }
   ],
   "source": [
    "doc_topic_df.iloc[210]"
   ]
  },
  {
   "cell_type": "code",
   "execution_count": 5,
   "id": "f40476fd",
   "metadata": {},
   "outputs": [
    {
     "name": "stdout",
     "output_type": "stream",
     "text": [
      "Beauty and the Beast\n",
      "The beautiful Belle ignores her suitor, the vain Gaston, as she cares for her father, the eccentric ...\n",
      "\n",
      "\n",
      "\t Beauty and the Beast\n",
      "\t The beautiful Belle ignores her suitor, the vain Gaston, as she cares for her father, the eccentric ...\n",
      "\n",
      "\n",
      "\t Lady and the Tramp\n",
      "\t Lady, a young cocker spaniel from a respectable home, falls in love with Tramp, a mutt who lives in ...\n",
      "\n",
      "\n",
      "\t Lion King, The\n",
      "\t A young lion cub, Simba, struggles to find his place in nature's \"circle of life\" and follow in the ...\n",
      "\n",
      "\n"
     ]
    }
   ],
   "source": [
    "recommendation_single(210, n_recs=3)"
   ]
  },
  {
   "cell_type": "markdown",
   "id": "08826154",
   "metadata": {},
   "source": [
    "# Star Wars: The Force Awakens"
   ]
  },
  {
   "cell_type": "code",
   "execution_count": 6,
   "id": "c0100134",
   "metadata": {},
   "outputs": [
    {
     "name": "stdout",
     "output_type": "stream",
     "text": [
      "Star Wars: The Force Awakens\n",
      "Thirty years ago, the Galactic Empire was defeated, but now the Galaxy faces a new threat known as t...\n",
      "\n",
      "\n",
      "\t Incredibles, The\n",
      "\t Bob Parr used to be one of the world's greatest superheroes, known to all as \"Mr. Incredible, \" savi...\n",
      "\n",
      "\n",
      "\t Bolt\n",
      "\t For super-dog Bolt, every day is filled with adventure, danger, and intrigue-at least until the came...\n",
      "\n",
      "\n",
      "\t Atlantis: The Lost Empire\n",
      "\t In 1914, an inexperienced young museum cartographer and linguistics expert, Milo Thatch, joins up wi...\n",
      "\n",
      "\n"
     ]
    }
   ],
   "source": [
    "recommendation_single(1762, n_recs=3)"
   ]
  },
  {
   "cell_type": "markdown",
   "id": "39686ea9",
   "metadata": {},
   "source": [
    "# Beauty and the Beast + Star Wars: The Force Awakens"
   ]
  },
  {
   "cell_type": "code",
   "execution_count": 7,
   "id": "88a36d7e",
   "metadata": {},
   "outputs": [
    {
     "name": "stdout",
     "output_type": "stream",
     "text": [
      "First selected movie:\n",
      "Beauty and the Beast\n",
      "The beautiful Belle ignores her suitor, the vain Gaston, as she cares for her father, the eccentric ...\n",
      "\n",
      "\n",
      "Second selected movie:\n",
      "Star Wars: The Force Awakens\n",
      "Thirty years ago, the Galactic Empire was defeated, but now the Galaxy faces a new threat known as t...\n",
      "\n",
      "\n",
      "Getting recommendations...\n",
      "\n",
      "\n",
      "\t 20,000 Leagues Under the Sea\n",
      "\t In 1868, an armed frigate sent to seek out a fabled destroyer of ships is itself sunk, and three pas...\n",
      "\n",
      "\n",
      "\t Pete's Dragon\n",
      "\t Lively musical comedy in which a magical and sometimes mischievous dragon, Elliott, inadvertantly ca...\n",
      "\n",
      "\n",
      "\t Chronicles of Narnia, The: The Lion, the Witch and the Wardrobe\n",
      "\t Four Pevensie siblings-Lucy, Edmund, Susan, and Peter-in World War II England enter the world of Nar...\n",
      "\n",
      "\n"
     ]
    }
   ],
   "source": [
    "recommendation_pair(210, 1762, n_recs=3)"
   ]
  },
  {
   "cell_type": "markdown",
   "id": "92074605",
   "metadata": {},
   "source": [
    "# Bambi + Dumbo (Walt Disney's favorite movies)"
   ]
  },
  {
   "cell_type": "code",
   "execution_count": 8,
   "id": "62834ec0",
   "metadata": {},
   "outputs": [
    {
     "name": "stdout",
     "output_type": "stream",
     "text": [
      "First selected movie:\n",
      "Bambi\n",
      "Life story of a fawn, Bambi, who grows up, with friends Thumper, the rabbit, and Flower, the skunk, ...\n",
      "\n",
      "\n",
      "Second selected movie:\n",
      "Dumbo\n",
      "A baby circus elephant is born with huge ears, and named Dumbo. He and his mother suffer humiliation...\n",
      "\n",
      "\n",
      "Getting recommendations...\n",
      "\n",
      "\n",
      "\t Snow White and the Seven Dwarfs\n",
      "\t A beautiful girl, Snow White, takes refuge in the forest in the house of Seven Dwarfs to hide from h...\n",
      "\n",
      "\n",
      "\t Beauty and the Beast\n",
      "\t The beautiful Belle ignores her suitor, the vain Gaston, as she cares for her father, the eccentric ...\n",
      "\n",
      "\n",
      "\t Beauty and the Beast\n",
      "\t The beautiful Belle ignores her suitor, the vain Gaston, as she cares for her father, the eccentric ...\n",
      "\n",
      "\n"
     ]
    }
   ],
   "source": [
    "recommendation_pair(184, 584, 3)"
   ]
  },
  {
   "cell_type": "markdown",
   "id": "be6c9a65",
   "metadata": {},
   "source": [
    "# Toy Story + WALLE"
   ]
  },
  {
   "cell_type": "code",
   "execution_count": 9,
   "id": "c28113cb",
   "metadata": {},
   "outputs": [
    {
     "name": "stdout",
     "output_type": "stream",
     "text": [
      "First selected movie:\n",
      "Toy Story\n",
      "Andy's toys are fearful of being replaced when the boy's birthday comes along. Woody, his favorite t...\n",
      "\n",
      "\n",
      "Second selected movie:\n",
      "WALLE\n",
      "Computer-animated feature from Pixar Animation. What if mankind had to leave Earth 700 years in the ...\n",
      "\n",
      "\n",
      "Getting recommendations...\n",
      "\n",
      "\n",
      "\t Alice in Wonderland\n",
      "\t Animated version of Lewis Carroll's famous story of Alice and her adventures after falling down a ra...\n",
      "\n",
      "\n",
      "\t Treasure Planet\n",
      "\t With a nod to Robert Louis Stevenson's Treasure Island, this animated feature follows 15-year-old Ji...\n",
      "\n",
      "\n",
      "\t Great Mouse Detective, The\n",
      "\t Animated adventures of a mouse, Basil of Baker Street, who is called upon to search for a toy maker,...\n",
      "\n",
      "\n"
     ]
    }
   ],
   "source": [
    "recommendation_pair(1896, 1981, n_recs=3)"
   ]
  },
  {
   "cell_type": "code",
   "execution_count": 15,
   "id": "07a0fb82",
   "metadata": {},
   "outputs": [
    {
     "name": "stdout",
     "output_type": "stream",
     "text": [
      "Zootopia\n",
      "Animated feature taking place in a modern mammal metropolis built by animals. It has various habitat...\n",
      "\n",
      "\n",
      "\t Aladdin\n",
      "\t Animated feature about a street-smart young thief in the mythical city of Agrabah who meets and fall...\n",
      "\n",
      "\n",
      "\t Three Little Pigs\n",
      "\t Silly Symphony cartoon; released on May 27, 1933. Directed by Burt Gillett. While two happy-go-lucky...\n",
      "\n",
      "\n",
      "\t Donald's Cousin Gus\n",
      "\t Donald Duck cartoon; released on May 19, 1939. Directed by Jack King. Donald's goose cousin, Gus, co...\n",
      "\n",
      "\n"
     ]
    }
   ],
   "source": [
    "recommendation_single(2107, n_recs=3)"
   ]
  },
  {
   "cell_type": "code",
   "execution_count": null,
   "id": "fb999bc7",
   "metadata": {},
   "outputs": [],
   "source": []
  }
 ],
 "metadata": {
  "kernelspec": {
   "display_name": "Python [conda env:metis] *",
   "language": "python",
   "name": "conda-env-metis-py"
  },
  "language_info": {
   "codemirror_mode": {
    "name": "ipython",
    "version": 3
   },
   "file_extension": ".py",
   "mimetype": "text/x-python",
   "name": "python",
   "nbconvert_exporter": "python",
   "pygments_lexer": "ipython3",
   "version": "3.8.10"
  }
 },
 "nbformat": 4,
 "nbformat_minor": 5
}
