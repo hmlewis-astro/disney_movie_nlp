{
 "cells": [
  {
   "cell_type": "code",
   "execution_count": null,
   "id": "364c349c",
   "metadata": {},
   "outputs": [],
   "source": [
    "import re\n",
    "import string\n",
    "import time\n",
    "from tqdm import tqdm\n",
    "import unicodedata\n",
    "\n",
    "import numpy as np\n",
    "import pandas as pd\n",
    "\n",
    "from bs4 import BeautifulSoup\n",
    "from selenium import webdriver\n"
   ]
  },
  {
   "cell_type": "code",
   "execution_count": null,
   "id": "285e31a9",
   "metadata": {},
   "outputs": [],
   "source": [
    "def rendering(url):\n",
    "    driver = webdriver.Chrome('/usr/local/bin/chromedriver') # run ChromeDriver\n",
    "    driver.get(url) # load the web page from the URL\n",
    "    time.sleep(3) # wait for the web page to load\n",
    "    render = driver.page_source # get the page source HTML\n",
    "    driver.quit() # quit ChromeDriver\n",
    "    return render # return the page source HTML\n",
    "    "
   ]
  },
  {
   "cell_type": "code",
   "execution_count": null,
   "id": "3afb22f5",
   "metadata": {},
   "outputs": [],
   "source": [
    "base_url = 'https://d23.com/'\n",
    "\n",
    "end_urls = ['0-9'] + list(string.ascii_lowercase)\n"
   ]
  },
  {
   "cell_type": "code",
   "execution_count": null,
   "id": "74226ba6",
   "metadata": {},
   "outputs": [],
   "source": [
    "df = pd.DataFrame(columns=['title', 'd23_link'])\n",
    "\n",
    "for end in tqdm(end_urls):\n",
    "    search_url = base_url + f'disney-a-to-z/{end}/'\n",
    "    \n",
    "    page = rendering(search_url)\n",
    "\n",
    "    soup = BeautifulSoup(page, 'html.parser')\n",
    "    \n",
    "    page_content = soup.find_all('div', class_='a-z-letter-wrapper')\n",
    "    \n",
    "    for content in page_content:\n",
    "        for a in content.select('a'):\n",
    "            if ('film' in a.text) and (('(' or ')') in a.text) :\n",
    "                df = df.append({'title': a.text, 'd23_link': a['href'].lstrip(base_url)}, ignore_index=True)\n",
    "            "
   ]
  },
  {
   "cell_type": "code",
   "execution_count": null,
   "id": "107f5108",
   "metadata": {},
   "outputs": [],
   "source": [
    "translate_dict = dict([(ord(x), ord(y)) for x,y in zip( u\"‘’´“”—–-\", u\"'''\\\"\\\"---\")]) \n"
   ]
  },
  {
   "cell_type": "code",
   "execution_count": null,
   "id": "aea77181",
   "metadata": {},
   "outputs": [],
   "source": [
    "# fix titles with unicode and non-ascii characters\n",
    "df['title'] = [unicodedata.normalize('NFD', title.translate(translate_dict)) \\\n",
    "               .encode('ascii', 'ignore') \\\n",
    "               .decode(\"utf-8\")\\\n",
    "               .replace('  ', ' ') for title in df['title']]\n"
   ]
  },
  {
   "cell_type": "code",
   "execution_count": null,
   "id": "64e39497",
   "metadata": {},
   "outputs": [],
   "source": [
    "df"
   ]
  },
  {
   "cell_type": "code",
   "execution_count": null,
   "id": "14dfb6f0",
   "metadata": {},
   "outputs": [],
   "source": [
    "def get_d23(i, row):\n",
    "    \n",
    "    search_url = base_url + row['d23_link']\n",
    "\n",
    "    page = rendering(search_url)\n",
    "\n",
    "    soup = BeautifulSoup(page, 'html.parser')\n",
    "\n",
    "    page_content = soup.find_all('div', class_='entry-content')\n",
    "\n",
    "    # get film summary\n",
    "    summary = []\n",
    "    for content in page_content:\n",
    "        for p in (content.select('p')):\n",
    "            summary.extend(p.text)\n",
    "\n",
    "    # join summary list, fix summaries with unicode and non-ascii characters\n",
    "    summary = unicodedata.normalize('NFD', \"\".join(summary).translate(translate_dict)).encode('ascii', 'ignore').decode(\"utf-8\").replace('  ', ' ')\n",
    "    \n",
    "    return summary\n"
   ]
  },
  {
   "cell_type": "code",
   "execution_count": null,
   "id": "6beb21a6",
   "metadata": {},
   "outputs": [],
   "source": [
    "df['summary'] = ''\n"
   ]
  },
  {
   "cell_type": "code",
   "execution_count": null,
   "id": "f4342ac8",
   "metadata": {},
   "outputs": [],
   "source": [
    "for i,row in tqdm(df.iterrows(), total=df.shape[0]):\n",
    "\n",
    "    if row['summary'] == '':\n",
    "        summary = get_d23(i,row)\n",
    "    \n",
    "        df.at[i,'summary'] = summary\n"
   ]
  },
  {
   "cell_type": "code",
   "execution_count": null,
   "id": "1396fca6",
   "metadata": {},
   "outputs": [],
   "source": [
    "df"
   ]
  },
  {
   "cell_type": "code",
   "execution_count": null,
   "id": "3cb8c483",
   "metadata": {},
   "outputs": [],
   "source": [
    "# remove title from beginning of summary\n",
    "df['summary'] = df.apply(lambda x: x['summary'][x['summary'].find(x['title'])+len(x['title']):].lstrip(), axis=1)"
   ]
  },
  {
   "cell_type": "code",
   "execution_count": null,
   "id": "3fdf74b1",
   "metadata": {},
   "outputs": [],
   "source": [
    "# remove 'film' and 'live-action' tags from titles\n",
    "df['title'] = [title[:max([title.find('(film'), title.find('(live')])].rstrip() for title in df['title']]\n"
   ]
  },
  {
   "cell_type": "code",
   "execution_count": null,
   "id": "fa96acb3",
   "metadata": {},
   "outputs": [],
   "source": [
    "df"
   ]
  },
  {
   "cell_type": "code",
   "execution_count": null,
   "id": "a53459a3",
   "metadata": {},
   "outputs": [],
   "source": [
    "df.to_csv('movie_summaries.csv')"
   ]
  },
  {
   "cell_type": "code",
   "execution_count": null,
   "id": "3707d554",
   "metadata": {},
   "outputs": [],
   "source": []
  }
 ],
 "metadata": {
  "kernelspec": {
   "display_name": "Python [conda env:metis] *",
   "language": "python",
   "name": "conda-env-metis-py"
  },
  "language_info": {
   "codemirror_mode": {
    "name": "ipython",
    "version": 3
   },
   "file_extension": ".py",
   "mimetype": "text/x-python",
   "name": "python",
   "nbconvert_exporter": "python",
   "pygments_lexer": "ipython3",
   "version": "3.8.10"
  }
 },
 "nbformat": 4,
 "nbformat_minor": 5
}
