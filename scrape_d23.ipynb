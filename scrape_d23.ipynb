{
 "cells": [
  {
   "cell_type": "code",
   "execution_count": 1,
   "id": "364c349c",
   "metadata": {},
   "outputs": [],
   "source": [
    "import re\n",
    "import string\n",
    "import time\n",
    "from tqdm import tqdm\n",
    "\n",
    "import numpy as np\n",
    "import pandas as pd\n",
    "\n",
    "from bs4 import BeautifulSoup\n",
    "from selenium import webdriver\n"
   ]
  },
  {
   "cell_type": "code",
   "execution_count": 2,
   "id": "285e31a9",
   "metadata": {},
   "outputs": [],
   "source": [
    "def rendering(url):\n",
    "    driver = webdriver.Chrome('/usr/local/bin/chromedriver') # run ChromeDriver\n",
    "    driver.get(url) # load the web page from the URL\n",
    "    time.sleep(3) # wait for the web page to load\n",
    "    render = driver.page_source # get the page source HTML\n",
    "    driver.quit() # quit ChromeDriver\n",
    "    return render # return the page source HTML\n",
    "    "
   ]
  },
  {
   "cell_type": "code",
   "execution_count": 3,
   "id": "3afb22f5",
   "metadata": {},
   "outputs": [],
   "source": [
    "base_url = 'https://d23.com/'\n",
    "\n",
    "end_urls = ['0-9'] + list(string.ascii_lowercase)\n"
   ]
  },
  {
   "cell_type": "code",
   "execution_count": 14,
   "id": "74226ba6",
   "metadata": {},
   "outputs": [
    {
     "name": "stderr",
     "output_type": "stream",
     "text": [
      "100%|██████████| 27/27 [04:41<00:00, 10.43s/it]\n"
     ]
    }
   ],
   "source": [
    "df = pd.DataFrame(columns=['title', 'd23_link'])\n",
    "\n",
    "for end in tqdm(end_urls):\n",
    "    search_url = base_url + f'disney-a-to-z/{end}/'\n",
    "    \n",
    "    page = rendering(search_url)\n",
    "\n",
    "    soup = BeautifulSoup(page, 'html.parser')\n",
    "    \n",
    "    page_content = soup.find_all('div', class_='a-z-letter-wrapper')\n",
    "    \n",
    "    for content in page_content:\n",
    "        for a in content.select('a'):\n",
    "            if ('film' and ('(' or ')')) in a.text:\n",
    "                df = df.append({'title': a.text, 'd23_link': a['href'].lstrip(base_url)}, ignore_index=True)\n",
    "            "
   ]
  },
  {
   "cell_type": "code",
   "execution_count": 5,
   "id": "780ab3b8",
   "metadata": {},
   "outputs": [
    {
     "data": {
      "text/html": [
       "<div>\n",
       "<style scoped>\n",
       "    .dataframe tbody tr th:only-of-type {\n",
       "        vertical-align: middle;\n",
       "    }\n",
       "\n",
       "    .dataframe tbody tr th {\n",
       "        vertical-align: top;\n",
       "    }\n",
       "\n",
       "    .dataframe thead th {\n",
       "        text-align: right;\n",
       "    }\n",
       "</style>\n",
       "<table border=\"1\" class=\"dataframe\">\n",
       "  <thead>\n",
       "    <tr style=\"text-align: right;\">\n",
       "      <th></th>\n",
       "      <th>title</th>\n",
       "      <th>d23_link</th>\n",
       "    </tr>\n",
       "  </thead>\n",
       "  <tbody>\n",
       "    <tr>\n",
       "      <th>0</th>\n",
       "      <td>10 Things I Hate About You (film)</td>\n",
       "      <td>a-to-z/10-things-i-hate-about-you-film/</td>\n",
       "    </tr>\n",
       "    <tr>\n",
       "      <th>1</th>\n",
       "      <td>101 Dalmatians (film)</td>\n",
       "      <td>a-to-z/101-dalmatians-film/</td>\n",
       "    </tr>\n",
       "    <tr>\n",
       "      <th>2</th>\n",
       "      <td>101 Dalmatians II: Patch’s London Adventure (f...</td>\n",
       "      <td>a-to-z/101-dalmatians-ii-patchs-london-adventu...</td>\n",
       "    </tr>\n",
       "    <tr>\n",
       "      <th>3</th>\n",
       "      <td>101 Problems of Hercules, The (film)</td>\n",
       "      <td>a-to-z/101-problems-of-hercules-the-film/</td>\n",
       "    </tr>\n",
       "    <tr>\n",
       "      <th>4</th>\n",
       "      <td>102 Dalmatians (film)</td>\n",
       "      <td>a-to-z/102-dalmatians-film/</td>\n",
       "    </tr>\n",
       "    <tr>\n",
       "      <th>...</th>\n",
       "      <td>...</td>\n",
       "      <td>...</td>\n",
       "    </tr>\n",
       "    <tr>\n",
       "      <th>2109</th>\n",
       "      <td>Zenith (film)</td>\n",
       "      <td>a-to-z/zenith-film/</td>\n",
       "    </tr>\n",
       "    <tr>\n",
       "      <th>2110</th>\n",
       "      <td>Zokkomon (film)</td>\n",
       "      <td>a-to-z/zokkomon-film/</td>\n",
       "    </tr>\n",
       "    <tr>\n",
       "      <th>2111</th>\n",
       "      <td>Zootopia (film)</td>\n",
       "      <td>a-to-z/zootopia-film/</td>\n",
       "    </tr>\n",
       "    <tr>\n",
       "      <th>2112</th>\n",
       "      <td>Zorro the Avenger (film)</td>\n",
       "      <td>a-to-z/zorro-the-avenger-film/</td>\n",
       "    </tr>\n",
       "    <tr>\n",
       "      <th>2113</th>\n",
       "      <td>Zort Sorts (film)</td>\n",
       "      <td>a-to-z/zort-sorts-film/</td>\n",
       "    </tr>\n",
       "  </tbody>\n",
       "</table>\n",
       "<p>2114 rows × 2 columns</p>\n",
       "</div>"
      ],
      "text/plain": [
       "                                                  title  \\\n",
       "0                     10 Things I Hate About You (film)   \n",
       "1                                 101 Dalmatians (film)   \n",
       "2     101 Dalmatians II: Patch’s London Adventure (f...   \n",
       "3                  101 Problems of Hercules, The (film)   \n",
       "4                                 102 Dalmatians (film)   \n",
       "...                                                 ...   \n",
       "2109                                      Zenith (film)   \n",
       "2110                                    Zokkomon (film)   \n",
       "2111                                    Zootopia (film)   \n",
       "2112                           Zorro the Avenger (film)   \n",
       "2113                                  Zort Sorts (film)   \n",
       "\n",
       "                                               d23_link  \n",
       "0               a-to-z/10-things-i-hate-about-you-film/  \n",
       "1                           a-to-z/101-dalmatians-film/  \n",
       "2     a-to-z/101-dalmatians-ii-patchs-london-adventu...  \n",
       "3             a-to-z/101-problems-of-hercules-the-film/  \n",
       "4                           a-to-z/102-dalmatians-film/  \n",
       "...                                                 ...  \n",
       "2109                                a-to-z/zenith-film/  \n",
       "2110                              a-to-z/zokkomon-film/  \n",
       "2111                              a-to-z/zootopia-film/  \n",
       "2112                     a-to-z/zorro-the-avenger-film/  \n",
       "2113                            a-to-z/zort-sorts-film/  \n",
       "\n",
       "[2114 rows x 2 columns]"
      ]
     },
     "execution_count": 5,
     "metadata": {},
     "output_type": "execute_result"
    }
   ],
   "source": [
    "df"
   ]
  },
  {
   "cell_type": "code",
   "execution_count": null,
   "id": "64e39497",
   "metadata": {},
   "outputs": [],
   "source": [
    "translate_dict = dict([(ord(x), ord(y)) for x,y in zip( u\"‘’´“”–-\", u\"'''\\\"\\\"--\")]) \n"
   ]
  },
  {
   "cell_type": "code",
   "execution_count": null,
   "id": "14dfb6f0",
   "metadata": {},
   "outputs": [],
   "source": [
    "def get_d23(i, row):\n",
    "    \n",
    "    search_url = base_url + row['d23_link']\n",
    "\n",
    "    page = rendering(search_url)\n",
    "\n",
    "    soup = BeautifulSoup(page, 'html.parser')\n",
    "\n",
    "    page_content = soup.find_all('div', class_='entry-content')\n",
    "\n",
    "    # get film summary\n",
    "    summary = []\n",
    "    for content in page_content:\n",
    "        for p in (content.select('p')):\n",
    "            summary.extend(p.stripped_strings)\n",
    "    \n",
    "    # use regex to join summary list, do *not* add extra spaces between stripped string groups\n",
    "    summary = re.sub(\"( [,.!?;\\)]|[\\(] | ['] )\", lambda m: m.group(1).strip(), \" \".join(summary))\n",
    "    # translate typographical quotes, dashes, etc. to ascii characters\n",
    "    summary = summary.translate(translate_dict)\n",
    "    # remove all non-ascii characters\n",
    "    summary = re.sub(r\"[^\\x00-\\x7F]+\",\" \", summary)\n",
    "    return summary\n"
   ]
  },
  {
   "cell_type": "code",
   "execution_count": null,
   "id": "6beb21a6",
   "metadata": {},
   "outputs": [],
   "source": [
    "df['summary'] = ''\n"
   ]
  },
  {
   "cell_type": "code",
   "execution_count": null,
   "id": "f4342ac8",
   "metadata": {},
   "outputs": [],
   "source": [
    "count = 0\n",
    "iters = 10\n",
    "\n",
    "#while count < iters:\n",
    "for i,row in tqdm(df.iterrows(), total=df.shape[0]):\n",
    "\n",
    "    if row['summary'] == '':\n",
    "        summary = get_d23(i,row)\n",
    "    \n",
    "        df.at[i,'summary'] = summary\n",
    "        \n",
    "    break\n",
    "    #count += 1\n",
    "        "
   ]
  },
  {
   "cell_type": "code",
   "execution_count": null,
   "id": "126c3a70",
   "metadata": {},
   "outputs": [],
   "source": [
    "df"
   ]
  },
  {
   "cell_type": "code",
   "execution_count": null,
   "id": "9855bf5e",
   "metadata": {},
   "outputs": [],
   "source": []
  },
  {
   "cell_type": "code",
   "execution_count": null,
   "id": "547cb496",
   "metadata": {},
   "outputs": [],
   "source": []
  },
  {
   "cell_type": "code",
   "execution_count": null,
   "id": "fa96acb3",
   "metadata": {},
   "outputs": [],
   "source": []
  }
 ],
 "metadata": {
  "kernelspec": {
   "display_name": "Python [conda env:metis] *",
   "language": "python",
   "name": "conda-env-metis-py"
  },
  "language_info": {
   "codemirror_mode": {
    "name": "ipython",
    "version": 3
   },
   "file_extension": ".py",
   "mimetype": "text/x-python",
   "name": "python",
   "nbconvert_exporter": "python",
   "pygments_lexer": "ipython3",
   "version": "3.8.10"
  }
 },
 "nbformat": 4,
 "nbformat_minor": 5
}
